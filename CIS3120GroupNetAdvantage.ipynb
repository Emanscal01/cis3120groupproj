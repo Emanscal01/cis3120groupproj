{
 "cells": [
  {
   "cell_type": "markdown",
   "id": "a4990a4e",
   "metadata": {},
   "source": [
    "## Written by Emanuel Calderon and Andy Leon"
   ]
  },
  {
   "cell_type": "markdown",
   "id": "10660f77",
   "metadata": {},
   "source": [
    "FYI: I know one group used a premium alphavantage api key, so you can just use that one from their code if they put it in"
   ]
  },
  {
   "cell_type": "code",
   "execution_count": null,
   "id": "b9fec74f",
   "metadata": {},
   "outputs": [],
   "source": [
    "import pandas as pd\n",
    "import numpy as np\n",
    "import requests\n",
    "import json\n",
    "import math\n",
    "from sklearn import linear_model\n",
    "from sklearn.metrics import mean_squared_error, r2_score\n",
    "import matplotlib.pyplot as plt"
   ]
  },
  {
   "cell_type": "markdown",
   "id": "3740f8de",
   "metadata": {},
   "source": [
    "# 1. User Input and Data Collection"
   ]
  },
  {
   "cell_type": "code",
   "execution_count": null,
   "id": "4e11c06c",
   "metadata": {},
   "outputs": [],
   "source": [
    "# Function to search for ticker and obtain results: Process input and search results, then compare to verify existence of ticker\n",
    "def tickerFunc(): \n",
    "    global ticker\n",
    "    ticker = str(input(\"Enter a ticker (short character string): \"))\n",
    "    \n",
    "    while True:\n",
    "        if ticker.strip() == \"\":\n",
    "            print(\"\\nTicker should not be empty\")\n",
    "            tickerFunc()\n",
    "        else:\n",
    "            break\n",
    " \n",
    "    ticker = ticker.upper()\n",
    "\n",
    "    confirm = 'https://www.alphavantage.co/query?function=SYMBOL_SEARCH&keywords='+ticker+'&apikey='+key # call search endpoint utility, REPLACE WITH OWN KEY OR WHATEVER\n",
    "    #confirm = 'https://www.alphavantage.co/query?function=SYMBOL_SEARCH&keywords=tesco&apikey=demo' #DEMO\n",
    "    confirmResp = requests.get(confirm)\n",
    "\n",
    "    confirmData = confirmResp.json()\n",
    "\n",
    "    try:\n",
    "        confirmFrame = pd.DataFrame(confirmData[\"bestMatches\"]) #constructing a DataFrame using the JSON\n",
    "    except:\n",
    "        print(\"\\n## Daily limit for API key reached, or invalid API key! ##\")\n",
    "        return\n",
    "\n",
    "    confirmFrame = confirmFrame\n",
    "\n",
    "    if confirmFrame.empty == True:\n",
    "        print(\"\\nThere are no results for that ticker\")\n",
    "        tickerFunc()\n",
    "    else:\n",
    "        global tickercomp\n",
    "        tickercomp = ticker\n",
    "\n",
    "        for c in specialChars:\n",
    "            tickercomp = tickercomp.replace(c,\"\")\n",
    "\n",
    "        global tickerlist\n",
    "        tickerlist = []\n",
    "        for i in confirmFrame[\"1. symbol\"]:\n",
    "            for c in specialChars:\n",
    "                i = i.replace(c,\"\") # writing clean search results to list for matching to ticker input, for any foreign market\n",
    "            tickerlist.append(i)"
   ]
  },
  {
   "cell_type": "code",
   "execution_count": null,
   "id": "00e179d5",
   "metadata": {
    "scrolled": true
   },
   "outputs": [],
   "source": [
    "specialChars = [\"!\",\"@\",\"^\",\"=\",\"/\",\",\",\".\",\" \"]\n",
    "\n",
    "# Ask user to input API key: May use DN1PUQALCFSLB5MQ, replace wherever 'key' appears\n",
    "key = str(input(\"Enter your API key for Alphavantage: \"))\n",
    "\n",
    "while True:\n",
    "    if len(key.strip()) != 16:\n",
    "        print(\"\\nAPI key should be 16 characters long\")\n",
    "        key = str(input(\"Enter your API key for Alphavantage: \"))\n",
    "    else:\n",
    "        break\n",
    "\n",
    "\n",
    "print(\"\\n### ANY NON-PREMIUM API KEY WILL ONLY HAVE 25 USES PER DAY ###\\n\")\n",
    "tickerFunc()\n",
    "\n",
    "# Verify inputted ticker exists in search results\n",
    "try:\n",
    "    while True:\n",
    "        if tickercomp not in tickerlist:\n",
    "            print(\"\\nThis ticker does not appear in the database\\n\")\n",
    "            tickerFunc()\n",
    "        else:\n",
    "            print(\"\\nThis ticker appears in the database\")\n",
    "            break\n",
    "except:\n",
    "    print(\"## Replace API keys with your own and restart ##\")"
   ]
  },
  {
   "cell_type": "code",
   "execution_count": null,
   "id": "84abecf9",
   "metadata": {},
   "outputs": [],
   "source": [
    "# Request data from Alphavantage\n",
    "asset = 'https://www.alphavantage.co/query?function=TIME_SERIES_DAILY&symbol='+ticker+'&outputsize=full&apikey='+key #REPLACE WITH OWN KEY\n",
    "spx = 'https://www.alphavantage.co/query?function=TIME_SERIES_DAILY&symbol=SPY&outputsize=full&apikey='+key #REPLACE WITH OWN KEY\n",
    "# SPY needs to be used because alphavantage does not support indices\n",
    "\n",
    "assetResp = requests.get(asset)\n",
    "spxResp = requests.get(spx)\n",
    "#assetResp, spxResp #to verify that we made successful calls"
   ]
  },
  {
   "cell_type": "code",
   "execution_count": null,
   "id": "d388ace8",
   "metadata": {},
   "outputs": [],
   "source": [
    "assetData = assetResp.json()\n",
    "#assetData #we can verify the data by outputting the JSON\n",
    "\n",
    "spxData = spxResp.json()\n",
    "#spxData #we can verify the data by outputting the JSON"
   ]
  },
  {
   "cell_type": "code",
   "execution_count": null,
   "id": "6edf2f73",
   "metadata": {},
   "outputs": [],
   "source": [
    "assetFrame = pd.DataFrame(assetData[\"Time Series (Daily)\"]) #constructing a DataFrame using the JSON\n",
    "assetFrame = assetFrame.T\n",
    "assetDateRange = pd.DataFrame(assetFrame.loc['2017-12-31':'2017-01-01']) #constructing a new DataFrame with a specific date range \n",
    "assetDateRange.iloc[::-1].head()"
   ]
  },
  {
   "cell_type": "code",
   "execution_count": null,
   "id": "02723fae",
   "metadata": {},
   "outputs": [],
   "source": [
    "spxFrame = pd.DataFrame(spxData[\"Time Series (Daily)\"]) #constructing a DataFrame using the JSON\n",
    "spxFrame = spxFrame.T\n",
    "spxDateRange = pd.DataFrame(spxFrame.loc['2017-12-31':'2017-01-01']) #constructing a new DataFrame with a specific date range \n",
    "spxDateRange.iloc[::-1].head()"
   ]
  },
  {
   "cell_type": "code",
   "execution_count": null,
   "id": "b5474982",
   "metadata": {},
   "outputs": [],
   "source": [
    "assetReturns = assetDateRange['4. close'].astype(float)#.pct_change() #astype is used here since all the data returned are strings\n",
    "\n",
    "spxReturns = spxDateRange['4. close'].astype(float)#.pct_change()"
   ]
  },
  {
   "cell_type": "code",
   "execution_count": null,
   "id": "6c1e7a9f",
   "metadata": {},
   "outputs": [],
   "source": [
    "combined = pd.DataFrame([assetReturns,spxReturns],index=[ticker+' Close', 'SPY Close'])\n",
    "combined = combined.T[::-1]\n",
    "print(combined.head())\n",
    "print(\"\\nTotal Rows: \",len(combined.index))"
   ]
  },
  {
   "cell_type": "code",
   "execution_count": null,
   "id": "d9b4078d",
   "metadata": {},
   "outputs": [],
   "source": [
    "# Get rid of unused data\n",
    "del asset\n",
    "del assetResp\n",
    "del assetData\n",
    "del spx\n",
    "del spxResp\n",
    "del spxData"
   ]
  },
  {
   "cell_type": "markdown",
   "id": "e9a66204",
   "metadata": {},
   "source": [
    "# 2. Percentage Changes in Daily Closing Price"
   ]
  },
  {
   "cell_type": "code",
   "execution_count": null,
   "id": "9642e1e9",
   "metadata": {},
   "outputs": [],
   "source": [
    "# Calculate and Display Daily Percentage Changes\n",
    "combinedPC = combined.pct_change().dropna()\n",
    "combinedPC = combinedPC.rename(columns = {ticker+\" Close\":ticker+\" Percent Change (%)\", \"SPY Close\":\"SPY Percent Change (%)\"})\n",
    "\n",
    "\n",
    "for i in combinedPC.index:\n",
    "    combinedPC.loc[i] = round(combinedPC.loc[i] * 100,3) # Display percent changes in percentage form\n",
    "    \n",
    "print(combinedPC.head())\n",
    "print(\"\\nTotal Rows: \",len(combinedPC.index))"
   ]
  },
  {
   "cell_type": "code",
   "execution_count": null,
   "id": "b4062f80",
   "metadata": {},
   "outputs": [],
   "source": [
    "# Data may be incomplete, this code goes through the dates and returns only the index of the first day of a month with data\n",
    "t = 0\n",
    "combinedPCReset = combinedPC.reset_index()\n",
    "\n",
    "datenums = []\n",
    "datelist = []\n",
    "\n",
    "datenums.append(combinedPCReset.index[0])\n",
    "datelist.append(combinedPCReset[\"index\"][0][5:7])\n",
    "\n",
    "for i in combinedPCReset.index:    #Obtain first available day of the month, use the index of the row where it appears as the labels for x-axis bar graph\n",
    "    t+=1\n",
    "    if combinedPCReset[\"index\"][t-1][5:7] in datelist[-1]:\n",
    "        continue\n",
    "    datenums.append(combinedPCReset.index[t-1])\n",
    "    datelist.append(combinedPCReset[\"index\"][t-1][5:7])"
   ]
  },
  {
   "cell_type": "code",
   "execution_count": null,
   "id": "5eaefbc3",
   "metadata": {},
   "outputs": [],
   "source": [
    "# Create the bar graph\n",
    "combinedPCbar = combinedPC.plot.bar(y = ticker+\" Percent Change (%)\", xlabel = \"Date\", ylabel = \"Percentage\", figsize=(12,4), rot = 45, color=\"orange\")\n",
    "combinedPCbar.set(xticks = datenums, title = ticker+\" Daily Percentage Changes in 2017\")\n",
    "print(combinedPCbar)"
   ]
  },
  {
   "cell_type": "code",
   "execution_count": null,
   "id": "b5706c52",
   "metadata": {},
   "outputs": [],
   "source": [
    "# Delete unused bar data\n",
    "del combinedPCReset\n",
    "del datelist\n",
    "del combinedPCbar"
   ]
  },
  {
   "cell_type": "code",
   "execution_count": null,
   "id": "0578cdba",
   "metadata": {},
   "outputs": [],
   "source": [
    "# Statistical calculations using daily percent change\n",
    "assetValues = []\n",
    "spxValues = []\n",
    "\n",
    "assetValues.clear()\n",
    "spxValues.clear()\n",
    "\n",
    "#--------------------------------------------------\n",
    "#--------------------------------------------------\n",
    "# MEANS\n",
    "    # Asset\n",
    "meanSum = 0\n",
    "\n",
    "for i in combinedPC[ticker+\" Percent Change (%)\"]:\n",
    "    meanSum += i\n",
    "    \n",
    "assetMean = round(meanSum / len(combinedPC.index),3)\n",
    "assetValues.append(assetMean)\n",
    "\n",
    "    # SPY\n",
    "meanSum = 0\n",
    "\n",
    "for i in combinedPC[\"SPY Percent Change (%)\"]:\n",
    "    meanSum += i\n",
    "    \n",
    "spyMean = round(meanSum / len(combinedPC.index),3)\n",
    "spxValues.append(spyMean)\n",
    "\n",
    "\n",
    "#--------------------------------------------------\n",
    "#--------------------------------------------------\n",
    "# STANDARD DEVIATIONS\n",
    "    # Asset\n",
    "stdSum = 0\n",
    "\n",
    "for i in combinedPC[ticker+\" Percent Change (%)\"]:\n",
    "    stdSum = (i - assetMean) ** 2\n",
    "    \n",
    "assetStd = round(math.sqrt(stdSum / len(combinedPC.index)),3)\n",
    "assetValues.append(assetStd)\n",
    "\n",
    "    # SPY\n",
    "stdSum = 0\n",
    "\n",
    "for i in combinedPC[\"SPY Percent Change (%)\"]:\n",
    "    stdSum = (i - assetMean) ** 2\n",
    "    \n",
    "spxStd = round(math.sqrt(stdSum / len(combinedPC.index)),3)\n",
    "spxValues.append(spxStd)\n",
    "\n",
    "\n",
    "#--------------------------------------------------\n",
    "#--------------------------------------------------\n",
    "# VARIANCES\n",
    "    # Asset\n",
    "assetVar = round(assetStd ** 2,3)\n",
    "assetValues.append(assetVar)\n",
    "\n",
    "    # SPY\n",
    "spxVar = round(spxStd ** 2,3)\n",
    "spxValues.append(spxVar)\n",
    "\n",
    "\n",
    "#--------------------------------------------------\n",
    "#--------------------------------------------------\n",
    "# MINS\n",
    "    # Asset\n",
    "min = combinedPC[ticker+\" Percent Change (%)\"][0]\n",
    "\n",
    "for i in combinedPC[ticker+\" Percent Change (%)\"]:\n",
    "    if i < min:\n",
    "        min = i\n",
    "        \n",
    "assetMin = round(min,3)\n",
    "assetValues.append(assetMin)\n",
    "\n",
    "    # SPY\n",
    "min = combinedPC[\"SPY Percent Change (%)\"][0]\n",
    "\n",
    "for i in combinedPC[\"SPY Percent Change (%)\"]:\n",
    "    if i < min:\n",
    "        min = i\n",
    "        \n",
    "spxMin = round(min,3)\n",
    "spxValues.append(spxMin)\n",
    "\n",
    "\n",
    "#--------------------------------------------------\n",
    "#--------------------------------------------------\n",
    "# MAXS\n",
    "    # Asset\n",
    "max = combinedPC[ticker+\" Percent Change (%)\"][0]\n",
    "\n",
    "for i in combinedPC[ticker+\" Percent Change (%)\"]:\n",
    "    if i > max:\n",
    "        max = i\n",
    "        \n",
    "assetMax = round(max,3)\n",
    "assetValues.append(assetMax)\n",
    "\n",
    "    # SPY\n",
    "max = combinedPC[\"SPY Percent Change (%)\"][0]\n",
    "\n",
    "for i in combinedPC[\"SPY Percent Change (%)\"]:\n",
    "    if i > max:\n",
    "        max = i\n",
    "        \n",
    "spxMax = round(max,3)\n",
    "spxValues.append(spxMax)\n",
    "\n",
    "combinedDict = {ticker+\" Percent Change (%)\":assetValues,\"SPY Percent Change (%)\":spxValues}"
   ]
  },
  {
   "cell_type": "code",
   "execution_count": null,
   "id": "55d8d4c4",
   "metadata": {},
   "outputs": [],
   "source": [
    "# Display statistics\n",
    "combinedStats = pd.DataFrame(combinedDict, index = [\"Mean\",\"Standard Deviation\",\"Variance\",\"Min\",\"Max\"])\n",
    "combinedStats"
   ]
  },
  {
   "cell_type": "markdown",
   "id": "2eaf9951",
   "metadata": {},
   "source": [
    "# 3. Regression Analysis"
   ]
  },
  {
   "cell_type": "code",
   "execution_count": null,
   "id": "eebd342b",
   "metadata": {},
   "outputs": [],
   "source": [
    "x = combinedPC.iloc[:, 0].values.reshape(-1,1)\n",
    "y = combinedPC.iloc[:, 1].values.reshape(-1,1)\n",
    "reg = linear_model.LinearRegression()\n",
    "reg.fit(x, y)\n",
    "prediction = reg.predict(x)\n",
    "\n",
    "plt.xlabel(ticker)\n",
    "plt.ylabel('S&P 500')\n",
    "plt.scatter(combinedPC.iloc[:, 0], combinedPC.iloc[:, 1], color='red', marker='+')\n",
    "plt.plot(combinedPC.iloc[:, 0], prediction, color='blue')\n",
    "\n",
    "intercept = reg.intercept_[0]\n",
    "coefficient = reg.coef_[0][0]\n",
    "r2 = r2_score(y, prediction)\n",
    "mse = mean_squared_error(y, prediction)\n",
    "\n",
    "print(f'Intercept: {intercept}')\n",
    "print(f'Coefficient: {coefficient}')\n",
    "print(f'R2: {r2}')\n",
    "print(f'Mean Squared Error: {mse}')\n",
    "\n",
    "if coefficient > 0:\n",
    "  print(f'{ticker} is positively correlated with the S&P 500.')\n",
    "elif coefficient < 0:\n",
    "  print(f'{ticker} is negatively correlated with the S&P 500.')\n",
    "else:\n",
    "  print(f'{ticker} has no correlation with the S&P 500.')"
   ]
  }
 ],
 "metadata": {
  "kernelspec": {
   "display_name": "Python 3 (ipykernel)",
   "language": "python",
   "name": "python3"
  },
  "language_info": {
   "codemirror_mode": {
    "name": "ipython",
    "version": 3
   },
   "file_extension": ".py",
   "mimetype": "text/x-python",
   "name": "python",
   "nbconvert_exporter": "python",
   "pygments_lexer": "ipython3",
   "version": "3.11.4"
  }
 },
 "nbformat": 4,
 "nbformat_minor": 5
}
