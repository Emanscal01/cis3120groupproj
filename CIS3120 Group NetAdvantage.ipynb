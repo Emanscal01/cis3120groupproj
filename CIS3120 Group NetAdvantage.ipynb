{
 "cells": [
  {
   "cell_type": "code",
   "execution_count": 1,
   "id": "b9fec74f",
   "metadata": {},
   "outputs": [],
   "source": [
    "import pandas as pd\n",
    "import numpy as np\n",
    "import requests\n",
    "import json\n",
    "import math"
   ]
  },
  {
   "cell_type": "markdown",
   "id": "17149373",
   "metadata": {},
   "source": [
    "# 1. User Input and Data Collection"
   ]
  },
  {
   "cell_type": "code",
   "execution_count": 50,
   "id": "4e11c06c",
   "metadata": {},
   "outputs": [],
   "source": [
    "def tickerFunc(): #search for ticker, obtain results\n",
    "    global ticker\n",
    "    ticker = str(input(\"Enter a ticker (short character string): \"))\n",
    "    \n",
    "    ticker = ticker.upper()\n",
    "\n",
    "    confirm = 'https://www.alphavantage.co/query?function=SYMBOL_SEARCH&keywords='+ticker+'&apikey=DN1PUQALCFSLB5MQ' # call search endpoint utility, REPLACE WITH OWN KEY OR WHATEVER\n",
    "    confirmResp = requests.get(confirm)\n",
    "\n",
    "    confirmData = confirmResp.json()\n",
    "\n",
    "    confirmFrame = pd.DataFrame(confirmData[\"bestMatches\"]) #constructing a DataFrame using the JSON\n",
    "    confirmFrame = confirmFrame\n",
    "    \n",
    "    global tickercomp\n",
    "    \n",
    "    for i in specialChars:\n",
    "        ticker = ticker.replace(i,\"\")\n",
    "        \n",
    "    global tickerlist\n",
    "    tickerlist = []\n",
    "    for i in confirmFrame[\"1. symbol\"]:\n",
    "        for c in specialChars:\n",
    "            i = i.replace(c,\"\") # writing clean search results to list for matching to ticker input, for any foreign market\n",
    "        tickerlist.append(i)"
   ]
  },
  {
   "cell_type": "code",
   "execution_count": 51,
   "id": "00e179d5",
   "metadata": {},
   "outputs": [
    {
     "name": "stdout",
     "output_type": "stream",
     "text": [
      "Enter a ticker (short character string): hd\n",
      "\n",
      "\n",
      "\n",
      "\n",
      "\n",
      "\n",
      "\n",
      "\n",
      "\n",
      "\n",
      "This ticker appears in the database\n"
     ]
    }
   ],
   "source": [
    "specialChars = [\"!\",\"@\",\"^\",\"=\",\"/\",\",\",\".\",\" \"]\n",
    "\n",
    "tickerFunc()\n",
    "\n",
    "while True:\n",
    "    if tickercomp not in tickerlist:\n",
    "        print(\"This ticker does not appear in the database\")\n",
    "        tickerFunc()\n",
    "    else:\n",
    "        print(\"This ticker appears in the database\")\n",
    "        break"
   ]
  },
  {
   "cell_type": "code",
   "execution_count": 52,
   "id": "84abecf9",
   "metadata": {},
   "outputs": [
    {
     "data": {
      "text/plain": [
       "(<Response [200]>, <Response [200]>)"
      ]
     },
     "execution_count": 52,
     "metadata": {},
     "output_type": "execute_result"
    }
   ],
   "source": [
    "#You can build the API call as one url or you can use variables for the different query parameters\n",
    "asset = 'https://www.alphavantage.co/query?function=TIME_SERIES_DAILY&symbol='+ticker+'&outputsize=full&apikey=DN1PUQALCFSLB5MQ' #REPLACE WITH OWN KEY\n",
    "spx = 'https://www.alphavantage.co/query?function=TIME_SERIES_DAILY&symbol=SPY&outputsize=full&apikey=DN1PUQALCFSLB5MQ' #REPLACE WITH OWN KEY\n",
    "# SPY needs to be used because alphavantage does not support indices\n",
    "\n",
    "assetResp = requests.get(asset)\n",
    "spxResp = requests.get(spx)\n",
    "assetResp, spxResp #to verify that we made successful calls"
   ]
  },
  {
   "cell_type": "code",
   "execution_count": 55,
   "id": "5661fda1",
   "metadata": {},
   "outputs": [],
   "source": [
    "assetData = assetResp.json()\n",
    "#assetData #we can verify the data by outputting the JSON"
   ]
  },
  {
   "cell_type": "code",
   "execution_count": 58,
   "id": "d388ace8",
   "metadata": {},
   "outputs": [],
   "source": [
    "spxData = spxResp.json()\n",
    "#spxData #we can verify the data by outputting the JSON"
   ]
  },
  {
   "cell_type": "code",
   "execution_count": 59,
   "id": "6edf2f73",
   "metadata": {},
   "outputs": [
    {
     "data": {
      "text/html": [
       "<div>\n",
       "<style scoped>\n",
       "    .dataframe tbody tr th:only-of-type {\n",
       "        vertical-align: middle;\n",
       "    }\n",
       "\n",
       "    .dataframe tbody tr th {\n",
       "        vertical-align: top;\n",
       "    }\n",
       "\n",
       "    .dataframe thead th {\n",
       "        text-align: right;\n",
       "    }\n",
       "</style>\n",
       "<table border=\"1\" class=\"dataframe\">\n",
       "  <thead>\n",
       "    <tr style=\"text-align: right;\">\n",
       "      <th></th>\n",
       "      <th>1. open</th>\n",
       "      <th>2. high</th>\n",
       "      <th>3. low</th>\n",
       "      <th>4. close</th>\n",
       "      <th>5. volume</th>\n",
       "    </tr>\n",
       "  </thead>\n",
       "  <tbody>\n",
       "    <tr>\n",
       "      <th>2017-01-03</th>\n",
       "      <td>135.1000</td>\n",
       "      <td>135.5100</td>\n",
       "      <td>133.5890</td>\n",
       "      <td>134.3100</td>\n",
       "      <td>5300410</td>\n",
       "    </tr>\n",
       "    <tr>\n",
       "      <th>2017-01-04</th>\n",
       "      <td>134.3400</td>\n",
       "      <td>135.9400</td>\n",
       "      <td>134.2100</td>\n",
       "      <td>135.5000</td>\n",
       "      <td>4055284</td>\n",
       "    </tr>\n",
       "    <tr>\n",
       "      <th>2017-01-05</th>\n",
       "      <td>134.9800</td>\n",
       "      <td>135.4600</td>\n",
       "      <td>133.7801</td>\n",
       "      <td>133.9000</td>\n",
       "      <td>3821073</td>\n",
       "    </tr>\n",
       "    <tr>\n",
       "      <th>2017-01-06</th>\n",
       "      <td>133.9700</td>\n",
       "      <td>134.3300</td>\n",
       "      <td>133.0500</td>\n",
       "      <td>133.5300</td>\n",
       "      <td>3827482</td>\n",
       "    </tr>\n",
       "    <tr>\n",
       "      <th>2017-01-09</th>\n",
       "      <td>133.2200</td>\n",
       "      <td>134.7600</td>\n",
       "      <td>133.1400</td>\n",
       "      <td>134.3100</td>\n",
       "      <td>4310227</td>\n",
       "    </tr>\n",
       "  </tbody>\n",
       "</table>\n",
       "</div>"
      ],
      "text/plain": [
       "             1. open   2. high    3. low  4. close 5. volume\n",
       "2017-01-03  135.1000  135.5100  133.5890  134.3100   5300410\n",
       "2017-01-04  134.3400  135.9400  134.2100  135.5000   4055284\n",
       "2017-01-05  134.9800  135.4600  133.7801  133.9000   3821073\n",
       "2017-01-06  133.9700  134.3300  133.0500  133.5300   3827482\n",
       "2017-01-09  133.2200  134.7600  133.1400  134.3100   4310227"
      ]
     },
     "execution_count": 59,
     "metadata": {},
     "output_type": "execute_result"
    }
   ],
   "source": [
    "assetFrame = pd.DataFrame(assetData[\"Time Series (Daily)\"]) #constructing a DataFrame using the JSON\n",
    "assetFrame = assetFrame.T\n",
    "assetDateRange = pd.DataFrame(assetFrame.loc['2017-12-31':'2017-01-01']) #constructing a new DataFrame with a specific date range \n",
    "assetDateRange.iloc[::-1].head()"
   ]
  },
  {
   "cell_type": "code",
   "execution_count": 60,
   "id": "02723fae",
   "metadata": {},
   "outputs": [
    {
     "data": {
      "text/html": [
       "<div>\n",
       "<style scoped>\n",
       "    .dataframe tbody tr th:only-of-type {\n",
       "        vertical-align: middle;\n",
       "    }\n",
       "\n",
       "    .dataframe tbody tr th {\n",
       "        vertical-align: top;\n",
       "    }\n",
       "\n",
       "    .dataframe thead th {\n",
       "        text-align: right;\n",
       "    }\n",
       "</style>\n",
       "<table border=\"1\" class=\"dataframe\">\n",
       "  <thead>\n",
       "    <tr style=\"text-align: right;\">\n",
       "      <th></th>\n",
       "      <th>1. open</th>\n",
       "      <th>2. high</th>\n",
       "      <th>3. low</th>\n",
       "      <th>4. close</th>\n",
       "      <th>5. volume</th>\n",
       "    </tr>\n",
       "  </thead>\n",
       "  <tbody>\n",
       "    <tr>\n",
       "      <th>2017-01-03</th>\n",
       "      <td>225.0400</td>\n",
       "      <td>225.8300</td>\n",
       "      <td>223.8800</td>\n",
       "      <td>225.2400</td>\n",
       "      <td>91366500</td>\n",
       "    </tr>\n",
       "    <tr>\n",
       "      <th>2017-01-04</th>\n",
       "      <td>225.6200</td>\n",
       "      <td>226.7500</td>\n",
       "      <td>225.6100</td>\n",
       "      <td>226.5800</td>\n",
       "      <td>78744400</td>\n",
       "    </tr>\n",
       "    <tr>\n",
       "      <th>2017-01-05</th>\n",
       "      <td>226.2700</td>\n",
       "      <td>226.5800</td>\n",
       "      <td>225.4800</td>\n",
       "      <td>226.4000</td>\n",
       "      <td>78379000</td>\n",
       "    </tr>\n",
       "    <tr>\n",
       "      <th>2017-01-06</th>\n",
       "      <td>226.5300</td>\n",
       "      <td>227.7500</td>\n",
       "      <td>225.9000</td>\n",
       "      <td>227.2100</td>\n",
       "      <td>71559900</td>\n",
       "    </tr>\n",
       "    <tr>\n",
       "      <th>2017-01-09</th>\n",
       "      <td>226.9100</td>\n",
       "      <td>227.0700</td>\n",
       "      <td>226.4200</td>\n",
       "      <td>226.4600</td>\n",
       "      <td>46939700</td>\n",
       "    </tr>\n",
       "  </tbody>\n",
       "</table>\n",
       "</div>"
      ],
      "text/plain": [
       "             1. open   2. high    3. low  4. close 5. volume\n",
       "2017-01-03  225.0400  225.8300  223.8800  225.2400  91366500\n",
       "2017-01-04  225.6200  226.7500  225.6100  226.5800  78744400\n",
       "2017-01-05  226.2700  226.5800  225.4800  226.4000  78379000\n",
       "2017-01-06  226.5300  227.7500  225.9000  227.2100  71559900\n",
       "2017-01-09  226.9100  227.0700  226.4200  226.4600  46939700"
      ]
     },
     "execution_count": 60,
     "metadata": {},
     "output_type": "execute_result"
    }
   ],
   "source": [
    "spxFrame = pd.DataFrame(spxData[\"Time Series (Daily)\"]) #constructing a DataFrame using the JSON\n",
    "spxFrame = spxFrame.T\n",
    "spxDateRange = pd.DataFrame(spxFrame.loc['2017-12-31':'2017-01-01']) #constructing a new DataFrame with a specific date range \n",
    "spxDateRange.iloc[::-1].head()"
   ]
  },
  {
   "cell_type": "code",
   "execution_count": 556,
   "id": "44e5435e",
   "metadata": {},
   "outputs": [
    {
     "name": "stdout",
     "output_type": "stream",
     "text": [
      "2017-12-29    189.53\n",
      "2017-12-28    189.78\n",
      "2017-12-27    190.19\n",
      "2017-12-26    190.36\n",
      "2017-12-22    188.13\n",
      "Name: 4. close, dtype: float64\n"
     ]
    }
   ],
   "source": [
    "assetReturns = assetDateRange['4. close'].astype(float)#.pct_change() #astype is used here since all the data returned are strings\n",
    "\n"
   ]
  },
    {
   "cell_type": "code",
   "execution_count": 557,
   "id": "b5474982",
   "metadata": {},
   "outputs": [
    {
     "name": "stdout",
     "output_type": "stream",
     "text": [
      "2017-12-29    266.86\n",
      "2017-12-28    267.87\n",
      "2017-12-27    267.32\n",
      "2017-12-26    267.19\n",
      "2017-12-22    267.51\n",
      "Name: 4. close, dtype: float64\n"
     ]
    }
   ],
   "source": [
    "spxReturns = spxDateRange['4. close'].astype(float)#.pct_change()\n",
    "\n"
   ]
  },
  {
   "cell_type": "code",
   "execution_count": 562,
   "id": "6c1e7a9f",
   "metadata": {},
   "outputs": [
    {
     "name": "stdout",
     "output_type": "stream",
     "text": [
      "            HD Close  SPY Close\n",
      "2017-01-03    134.31     225.24\n",
      "2017-01-04    135.50     226.58\n",
      "2017-01-05    133.90     226.40\n",
      "2017-01-06    133.53     227.21\n",
      "2017-01-09    134.31     226.46\n",
      "\n",
      "Total Rows:  251\n"
     ]
    }
   ],
   "source": [
    "combined = pd.DataFrame([assetReturns,spxReturns],index=[ticker+' Close', 'SPY Close'])\n",
    "combined = combined.T[::-1]\n",
    "print(combined.head())\n",
    "print(\"\\nTotal Rows: \",len(combined.index))\n"
   ]
  },
  {
   "cell_type": "code",
   "execution_count": null,
   "id": "11f8b0bc",
   "metadata": {},
   "outputs": [],
   "source": []
  }
 ],
 "metadata": {
  "kernelspec": {
   "display_name": "Python 3 (ipykernel)",
   "language": "python",
   "name": "python3"
  },
  "language_info": {
   "codemirror_mode": {
    "name": "ipython",
    "version": 3
   },
   "file_extension": ".py",
   "mimetype": "text/x-python",
   "name": "python",
   "nbconvert_exporter": "python",
   "pygments_lexer": "ipython3",
   "version": "3.11.4"
  }
 },
 "nbformat": 4,
 "nbformat_minor": 5
}
